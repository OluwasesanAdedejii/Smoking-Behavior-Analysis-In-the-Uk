{
 "cells": [
  {
   "cell_type": "markdown",
   "id": "6283f8da",
   "metadata": {},
   "source": [
    "# 🚬 Smoking Behavior Analysis\n",
    "\n",
    "This Jupyter Notebook explores demographic and behavioral trends in smoking using a real-world UK dataset. It includes:\n",
    "- Exploratory Data Analysis\n",
    "- Visualizations by age, gender, income, region, and more\n",
    "- Real-world implications and public health insights\n"
   ]
  },
  {
   "cell_type": "code",
   "execution_count": null,
   "id": "25dd0e96",
   "metadata": {},
   "outputs": [],
   "source": [
    "# 📥 Import Libraries\n",
    "import pandas as pd\n",
    "import matplotlib.pyplot as plt\n",
    "import seaborn as sns\n",
    "\n",
    "# Set styling\n",
    "sns.set(style='whitegrid')\n"
   ]
  },
  {
   "cell_type": "code",
   "execution_count": null,
   "id": "45143f2b",
   "metadata": {},
   "outputs": [],
   "source": [
    "# 📂 Load Data\n",
    "df = pd.read_csv(\"smoking.csv\")\n",
    "df['smoke'] = df['smoke'].str.strip()\n",
    "df['amt_weekends'] = pd.to_numeric(df['amt_weekends'], errors='coerce')\n",
    "df['amt_weekdays'] = pd.to_numeric(df['amt_weekdays'], errors='coerce')\n",
    "smokers_df = df[df['smoke'] == 'Yes'][['amt_weekends', 'amt_weekdays']].dropna()\n",
    "df.head()"
   ]
  },
  {
   "cell_type": "markdown",
   "id": "02cc6e23",
   "metadata": {},
   "source": [
    "## 📊 Smoking Status by Gender"
   ]
  },
  {
   "cell_type": "code",
   "execution_count": null,
   "id": "3e12fe90",
   "metadata": {},
   "outputs": [],
   "source": [
    "plt.figure(figsize=(6, 4))\n",
    "sns.countplot(data=df, x='gender', hue='smoke', palette='Set2')\n",
    "plt.title(\"Smoking Status by Gender\")\n",
    "plt.xlabel(\"Gender\")\n",
    "plt.ylabel(\"Count\")\n",
    "plt.tight_layout()\n",
    "plt.show()"
   ]
  },
  {
   "cell_type": "markdown",
   "id": "a0c8459e",
   "metadata": {},
   "source": [
    "## 🎓 Smoking by Education Level"
   ]
  },
  {
   "cell_type": "code",
   "execution_count": null,
   "id": "7db7cb6f",
   "metadata": {},
   "outputs": [],
   "source": [
    "plt.figure(figsize=(12, 6))\n",
    "qual_order = df['highest_qualification'].value_counts().index\n",
    "sns.countplot(data=df, x='highest_qualification', hue='smoke', order=qual_order, palette='coolwarm')\n",
    "plt.title(\"Smoking by Education\")\n",
    "plt.xlabel(\"Highest Qualification\")\n",
    "plt.ylabel(\"Count\")\n",
    "plt.xticks(rotation=45)\n",
    "plt.tight_layout()\n",
    "plt.show()"
   ]
  },
  {
   "cell_type": "markdown",
   "id": "0916814d",
   "metadata": {},
   "source": [
    "## 🧓 Age Distribution by Smoking Status"
   ]
  },
  {
   "cell_type": "code",
   "execution_count": null,
   "id": "0b3457cd",
   "metadata": {},
   "outputs": [],
   "source": [
    "plt.figure(figsize=(8, 5))\n",
    "sns.histplot(data=df, x='age', hue='smoke', multiple='stack', palette='Set1', bins=30)\n",
    "plt.title(\"Age Distribution by Smoking Status\")\n",
    "plt.xlabel(\"Age\")\n",
    "plt.ylabel(\"Count\")\n",
    "plt.tight_layout()\n",
    "plt.show()"
   ]
  },
  {
   "cell_type": "markdown",
   "id": "c8b2ac64",
   "metadata": {},
   "source": [
    "## 🚬 Cigarette Consumption (Smokers Only)"
   ]
  },
  {
   "cell_type": "code",
   "execution_count": null,
   "id": "3b52978f",
   "metadata": {},
   "outputs": [],
   "source": [
    "plt.figure(figsize=(10, 6))\n",
    "sns.histplot(smokers_df['amt_weekends'], color='blue', label='Weekends', kde=True, bins=25)\n",
    "sns.histplot(smokers_df['amt_weekdays'], color='green', label='Weekdays', kde=True, bins=25)\n",
    "plt.title(\"Cigarette Consumption (Smokers Only)\")\n",
    "plt.xlabel(\"Number of Cigarettes\")\n",
    "plt.ylabel(\"Frequency\")\n",
    "plt.legend()\n",
    "plt.tight_layout()\n",
    "plt.show()"
   ]
  },
  {
   "cell_type": "markdown",
   "id": "2ec2c208",
   "metadata": {},
   "source": [
    "## 💼 Smoking Status by Gross Income"
   ]
  },
  {
   "cell_type": "code",
   "execution_count": null,
   "id": "70ec974a",
   "metadata": {},
   "outputs": [],
   "source": [
    "plt.figure(figsize=(12, 6))\n",
    "income_order = df['gross_income'].value_counts().index\n",
    "sns.countplot(data=df, x='gross_income', hue='smoke', order=income_order, palette='Paired')\n",
    "plt.title(\"Smoking Status by Gross Income\")\n",
    "plt.xlabel(\"Gross Income\")\n",
    "plt.ylabel(\"Count\")\n",
    "plt.xticks(rotation=45)\n",
    "plt.tight_layout()\n",
    "plt.show()"
   ]
  }
 ],
 "metadata": {},
 "nbformat": 4,
 "nbformat_minor": 5
}
